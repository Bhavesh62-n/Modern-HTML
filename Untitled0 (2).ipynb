{
  "nbformat": 4,
  "nbformat_minor": 0,
  "metadata": {
    "colab": {
      "provenance": []
    },
    "kernelspec": {
      "name": "python3",
      "display_name": "Python 3"
    },
    "language_info": {
      "name": "python"
    }
  },
  "cells": [
    {
      "cell_type": "markdown",
      "source": [
        " 1. List out the features of HTML5\n",
        "\n",
        "\n",
        "   - HTML5 offers a range of new features and improvements:\n",
        "   \n",
        " 1. Semantic Elements - Like <header>, <footer>, <section>, <article> for better structure.\n",
        " 2. Audio and Video Support - <audio> and <video> tags to embed media without plugins.\n",
        " 3. Canvas Element - <canvas> for drawing graphics via JavaScript.\n",
        " 4. Improved Form Controls - New input types like email, date, range, etc.\n",
        " 5. Offline Capabilities - Through localStorage and sessionStorage.\n",
        " 6. Geolocation API - To get user's location with permission.\n",
        " 7. Web Storage - Replaces cookies with localStorage/sessionStorage.\n",
        " 8. Responsive Design - Works well with CSS3 for mobile-friendly design"
      ],
      "metadata": {
        "id": "QY0MFYO3lcXj"
      }
    },
    {
      "cell_type": "markdown",
      "source": [
        "2. What are HTML Entities? List out 5 commonly used HTML entities.\n",
        " HTML Entities are codes used to display reserved characters in HTML.\n",
        " They are used when characters like <, >, &, etc. can't be used directly.\n",
        " Common HTML Entities:\n",
        " 1. &lt; for < (less than)\n",
        " 2. &gt; for > (greater than)\n",
        " 3. &amp; for & (ampersand)\n",
        " 4. &quot; for \" (double quote)\n",
        " 5. &apos; for ' (single quote)"
      ],
      "metadata": {
        "id": "2svqiItFl2-T"
      }
    },
    {
      "cell_type": "markdown",
      "source": [
        " 3. Define accessibility in the context of web development.\n",
        "\n",
        "\n",
        "  - Accessibility in web development means designing websites and applications so that everyone, including\n",
        " people with disabilities, can use them effectively.\n",
        "It ensures that users can perceive, understand, navigate, and interact with web content regardless of their\n",
        " physical or cognitive abilities.\n",
        "Accessibility also helps improve usability for all users and is often required for legal compliance"
      ],
      "metadata": {
        "id": "OFef6TzrmAgE"
      }
    },
    {
      "cell_type": "markdown",
      "source": [
        "4. List any 3 ways which help in improving the accessibility of HTML.\n",
        " 1. Use semantic HTML tags like <nav>, <main>, <section> for better screen reader support.\n",
        " 2. Add alternative text (alt attribute) to images for users with visual impairments.\n",
        " 3. Ensure keyboard navigability and good contrast in colors to aid users who do not use a mouse"
      ],
      "metadata": {
        "id": "FMbaH-UYmN-T"
      }
    },
    {
      "cell_type": "markdown",
      "source": [
        " 5. Create a web page that highlights the features of HTML5"
      ],
      "metadata": {
        "id": "WNl8G8uBmURO"
      }
    },
    {
      "cell_type": "code",
      "source": [
        " <!DOCTYPE html>\n",
        " <html lang=\"en\">\n",
        " <head>\n",
        "  <meta charset=\"UTF-8\">\n",
        "  <title>HTML5 Features</title>\n",
        " </head>\n",
        " <body>\n",
        "  <header>\n",
        "    <h1>Key Features of HTML5</h1>\n",
        "  </header>\n",
        "  <section>\n",
        "\n",
        "    <article>\n",
        "      <h2>1. Semantic Elements</h2>\n",
        "      <p>HTML5 introduces elements like <section>, <article>, <aside> to give structure.</p>\n",
        "    </article>\n",
        "    <article>\n",
        "      <h2>2. Audio/Video Support</h2>\n",
        "      <p>Supports embedding media without plugins using <audio> and <video>.</p>\n",
        "    </article>\n",
        "    <article>\n",
        "      <h2>3. Canvas API</h2>\n",
        "      <p>Allows drawing graphics with JavaScript via the <canvas> element.</p>\n",
        "    </article>\n",
        "  </section>\n",
        " </body>\n",
        " </html>"
      ],
      "metadata": {
        "id": "edUC9ImOmXzB"
      },
      "execution_count": null,
      "outputs": []
    },
    {
      "cell_type": "markdown",
      "source": [
        " 6. Create a simple web page which has a table comparing HTML and HTML5"
      ],
      "metadata": {
        "id": "aMNuOPhGmcky"
      }
    },
    {
      "cell_type": "code",
      "source": [
        " <!DOCTYPE html>\n",
        " <html>\n",
        " <head>\n",
        "  <title>HTML vs HTML5</title>\n",
        " </head>\n",
        " <body>\n",
        "  <h1>Difference Between HTML and HTML5</h1>\n",
        "\n",
        "  <table border=\"1\">\n",
        "    <tr>\n",
        "      <th>HTML</th>\n",
        "      <th>HTML5</th>\n",
        "    </tr>\n",
        "    <tr>\n",
        "      <td>Does not support audio/video natively</td>\n",
        "      <td>Supports audio and video with <audio> and <video></td>\n",
        "    </tr>\n",
        "    <tr>\n",
        "      <td>No semantic elements</td>\n",
        "      <td>Introduced semantic tags like <nav>, <section></td>\n",
        "    </tr>\n",
        "    <tr>\n",
        "      <td>Relies on plugins for media</td>\n",
        "      <td>No need for plugins for multimedia</td>\n",
        "    </tr>\n",
        "  </table>\n",
        " </body>\n",
        " </html>"
      ],
      "metadata": {
        "id": "5ig2piOemg9e"
      },
      "execution_count": null,
      "outputs": []
    }
  ]
}